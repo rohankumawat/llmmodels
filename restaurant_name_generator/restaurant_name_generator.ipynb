{
 "cells": [
  {
   "cell_type": "code",
   "execution_count": 1,
   "id": "5898fb8e",
   "metadata": {},
   "outputs": [],
   "source": [
    "# !pip install python-dotenv"
   ]
  },
  {
   "cell_type": "code",
   "execution_count": 2,
   "id": "92997d60",
   "metadata": {},
   "outputs": [],
   "source": [
    "# import secret key (.env files)\n",
    "from dotenv.main import load_dotenv\n",
    "import os\n",
    "load_dotenv()\n",
    "os.environ[\"OPENAI_API_KEY\"] = os.environ[\"secret_key\"]"
   ]
  },
  {
   "cell_type": "code",
   "execution_count": 3,
   "id": "9640b59c",
   "metadata": {},
   "outputs": [
    {
     "data": {
      "text/plain": [
       "\"\\n\\n1. The Taj Mahal \\n2. The Curry Palace \\n3. The Spice Kitchen \\n4. The Masala House \\n5. Maharaja's Feast \\n6. The Punjabi Dhaba \\n7. The Saffron Table \\n8. The Biryani Bowl \\n9. The Chutney Club \\n10. The Samosa Shack\""
      ]
     },
     "execution_count": 3,
     "metadata": {},
     "output_type": "execute_result"
    }
   ],
   "source": [
    "from langchain.llms import OpenAI\n",
    "\n",
    "# temperature (from 0 to 1): higher temperature - higher creativity and more risk\n",
    "llm = OpenAI(temperature=0.6)\n",
    "llm(\"I want to open a restaurant for Indian food. Suggest some fancy names for this.\")"
   ]
  },
  {
   "cell_type": "code",
   "execution_count": 4,
   "id": "c1e6a508",
   "metadata": {},
   "outputs": [
    {
     "name": "stdout",
     "output_type": "stream",
     "text": [
      "\n",
      "\n",
      "1. Maharaja's Feast \n",
      "2. Spice N' Splendor \n",
      "3. Curry Castle \n",
      "4. Tandoori Palace \n",
      "5. The Royal Biryani \n",
      "6. The Curry House \n",
      "7. Bombay Bliss \n",
      "8. The Taj Mahal \n",
      "9. The Curry Corner \n",
      "10. Dine India\n"
     ]
    }
   ],
   "source": [
    "# passing one string here, for example: Indian, Italian, American and so on ...\n",
    "name = llm(\"I want to open a restaurant for Indian food. Suggest some fancy names for this.\")\n",
    "print(name)"
   ]
  },
  {
   "cell_type": "code",
   "execution_count": 5,
   "id": "9d9887e4",
   "metadata": {},
   "outputs": [
    {
     "data": {
      "text/plain": [
       "'I want to open a restaurant for American food. Suggest some fancy names for this.'"
      ]
     },
     "execution_count": 5,
     "metadata": {},
     "output_type": "execute_result"
    }
   ],
   "source": [
    "# create a prompt template here\n",
    "from langchain.prompts import PromptTemplate\n",
    "\n",
    "prompt_template_name = PromptTemplate(\n",
    "    input_variables = ['cuisine'],\n",
    "    template = \"I want to open a restaurant for {cuisine} food. Suggest some fancy names for this.\"\n",
    ")\n",
    "\n",
    "# more like python string formatting... \n",
    "prompt_template_name.format(cuisine=\"American\")"
   ]
  },
  {
   "cell_type": "code",
   "execution_count": 6,
   "id": "538f4aa7",
   "metadata": {},
   "outputs": [
    {
     "data": {
      "text/plain": [
       "\"\\n\\n1. The All-American Diner\\n2. The Liberty Grill\\n3. The Red, White & Blue Café\\n4. Yankee Kitchen\\n5. Stars & Stripes Café\\n6. The American Bistro\\n7. The Liberty Feast\\n8. The Heartland Café\\n9. The Great American Grill\\n10. The Patriot's Plate\""
      ]
     },
     "execution_count": 6,
     "metadata": {},
     "output_type": "execute_result"
    }
   ],
   "source": [
    "# chain (in langchain)\n",
    "from langchain.chains import LLMChain\n",
    "\n",
    "chain = LLMChain(llm=llm, prompt=prompt_template_name)\n",
    "chain.run(\"American\")"
   ]
  },
  {
   "cell_type": "code",
   "execution_count": 7,
   "id": "7025c5ae",
   "metadata": {},
   "outputs": [
    {
     "name": "stdout",
     "output_type": "stream",
     "text": [
      "\n",
      "\n",
      "1. The American Grill\n",
      "2. The Liberty Table\n",
      "3. Uncle Sam's Kitchen\n",
      "4. The Yankee Diner\n",
      "5. Stars & Stripes Bistro\n",
      "6. The Red, White & Blue Cafe\n",
      "7. USA Cuisine\n",
      "8. The All-American Eatery\n",
      "9. The Patriot's Plate\n",
      "10. The Brave & Bold Dining Room\n"
     ]
    }
   ],
   "source": [
    "print(chain.run(\"American\"))"
   ]
  },
  {
   "cell_type": "code",
   "execution_count": 8,
   "id": "cd2411cb",
   "metadata": {},
   "outputs": [],
   "source": [
    "llm = OpenAI(temperature=0.6)\n",
    "\n",
    "prompt_template_name = PromptTemplate(\n",
    "    input_variables = ['cuisine'],\n",
    "    template = \"I want to open a restaurant for {cuisine} food. Suggest some fancy names for this.\"\n",
    ")\n",
    "\n",
    "name_chain = LLMChain(llm=llm, prompt=prompt_template_name)\n",
    "\n",
    "prompt_template_items = PromptTemplate(\n",
    "    input_variables = [\"restaurant_name\"],\n",
    "    template = \"Suggest some menu items for {restaurant_name}.\")\n",
    "\n",
    "food_items_chain = LLMChain(llm=llm, prompt=prompt_template_items)"
   ]
  },
  {
   "cell_type": "code",
   "execution_count": 9,
   "id": "b509b07f",
   "metadata": {},
   "outputs": [
    {
     "name": "stdout",
     "output_type": "stream",
     "text": [
      "\n",
      "\n",
      "1. Tapas & Tintos: Patatas Bravas, Spanish Omelette, Chorizo and Manchego Cheese Plate, Gambas al Ajillo, Jamón Serrano, Croquettes, Gazpacho, Pintxos\n",
      "2. The Paella Palace: Paella Valenciana, Seafood Paella, Vegetable Paella, Fideua, Arroz Negro, Arroz con Pollo\n",
      "3. El Flamenco: Roasted Red Pepper and Goat Cheese Croquettes, Garlic Prawns, Grilled Squid, Fried Calamari, Patatas Bravas, Spanish Omelette, Gazpacho\n",
      "4. La Bodega: Jamón Serrano, Chorizo and Manchego Cheese Plate, Croquetas, Albondigas, Gambas al Ajillo, Patatas Bravas, Garlic Prawns\n",
      "5. Olé!: Gazpacho, Fideua, Albondigas, Patatas Bravas, Spanish Omelette, Chorizo and Manchego Cheese Plate, Croquetas, Fried Calamari\n",
      "6. Fiesta de España: Jamón Serrano, Paella Val\n"
     ]
    }
   ],
   "source": [
    "# simple sequential chain\n",
    "\n",
    "from langchain.chains import SimpleSequentialChain\n",
    "\n",
    "chain = SimpleSequentialChain(chains = [name_chain, food_items_chain])\n",
    "response = chain.run(\"Spanish\")\n",
    "print(response)"
   ]
  },
  {
   "cell_type": "code",
   "execution_count": 10,
   "id": "e9ecec71",
   "metadata": {},
   "outputs": [
    {
     "name": "stdout",
     "output_type": "stream",
     "text": [
      "\n",
      "\n",
      "1. Enchiladas Verdes\n",
      "2. Tacos de Carne Asada\n",
      "3. Tamales\n",
      "4. Quesadillas de Pollo\n",
      "5. Huevos Rancheros\n",
      "6. Chiles Rellenos\n",
      "7. Fajitas\n",
      "8. Mole Poblano\n",
      "9. Chiles en Nogada\n",
      "10. Churros con Chocolate\n"
     ]
    }
   ],
   "source": [
    "response = chain.run(\"Mexican\")\n",
    "print(response)"
   ]
  },
  {
   "cell_type": "code",
   "execution_count": 11,
   "id": "a97c9385",
   "metadata": {},
   "outputs": [],
   "source": [
    "# sequential chain\n",
    "\n",
    "llm = OpenAI(temperature=0.6)\n",
    "\n",
    "prompt_template_name = PromptTemplate(\n",
    "    input_variables = ['cuisine'],\n",
    "    template = \"I want to open a restaurant for {cuisine} food. Suggest some fancy names for this.\"\n",
    ")\n",
    "\n",
    "name_chain = LLMChain(llm=llm, prompt=prompt_template_name, output_key=\"restaurant_name\")\n",
    "\n",
    "prompt_template_items = PromptTemplate(\n",
    "    input_variables = [\"restaurant_name\"],\n",
    "    template = \"Suggest some menu items for {restaurant_name}.\")\n",
    "\n",
    "food_items_chain = LLMChain(llm=llm, prompt=prompt_template_items, output_key=\"menu_items\")"
   ]
  },
  {
   "cell_type": "code",
   "execution_count": 12,
   "id": "f044499f",
   "metadata": {},
   "outputs": [
    {
     "data": {
      "text/plain": [
       "{'cuisine': 'Indian',\n",
       " 'restaurant_name': \"\\n\\n1. Masala Palace\\n2. The Taj Mahal\\n3. Maharaja's Delight\\n4. Curry Kingdom\\n5. The Saffron Kitchen\\n6. Spicy Spice\\n7. India Bistro\\n8. The Curry House\\n9. The Spice Route\\n10. Bollywood Bites\",\n",
       " 'menu_items': \"\\n\\n1. Masala Palace: Butter Chicken, Lamb Vindaloo, Palak Paneer, Chicken Tikka Masala, Chana Masala, Aloo Gobi, Naan, Rice Pulao, Gulab Jamun\\n2. The Taj Mahal: Biryani, Korma, Samosa, Seekh Kabab, Raita, Paratha, Tandoori Chicken, Paneer Tikka, Naan, Gulab Jamun\\n3. Maharaja's Delight: Paneer Makhani, Kebab Platter, Dal Makhani, Tandoori Prawns, Vegetable Biryani, Naan, Raita, Gulab Jamun, Kheer\\n4. Curry Kingdom: Chicken Biryani, Mutton Rogan Josh, Chicken Tikka Masala, Paneer Tikka Masala, Palak Paneer, Aloo Gobi, Naan, Rice Pulao, Gulab Jamun\\n5. The Saffron Kitchen: Chicken Tikka, Lamb Korma, Paneer Bhurji, Baked Kebab Platter, Tandoori Paneer, Naan, Raita\"}"
      ]
     },
     "execution_count": 12,
     "metadata": {},
     "output_type": "execute_result"
    }
   ],
   "source": [
    "from langchain.chains import SequentialChain\n",
    "\n",
    "chain = SequentialChain(\n",
    "    chains = [name_chain, food_items_chain],\n",
    "    input_variables = ['cuisine'],\n",
    "    output_variables = ['restaurant_name', 'menu_items']\n",
    ")\n",
    "\n",
    "chain({'cuisine': 'Indian'})"
   ]
  },
  {
   "cell_type": "code",
   "execution_count": 13,
   "id": "3bb83229",
   "metadata": {},
   "outputs": [
    {
     "name": "stdout",
     "output_type": "stream",
     "text": [
      "{'cuisine': 'Indian', 'restaurant_name': '\\n\\n1. Masala Mahal \\n2. Taj of Taste \\n3. Curry Castle \\n4. Spice Kingdom \\n5. Chutney Palace \\n6. Tandoori Treats \\n7. Bombay Bites \\n8. The Desi Diner \\n9. The Curry Club \\n10. Samosa Station', 'menu_items': '\\n\\n1. Masala Mahal: Chicken Tikka Masala, Lamb Rogan Josh, Saag Paneer, Naan Bread, Raita \\n2. Taj of Taste: Chicken Biryani, Lamb Korma, Aloo Gobi, Garlic Naan, Mango Lassi \\n3. Curry Castle: Butter Chicken, Goan Fish Curry, Chana Masala, Pulao Rice, Gulab Jamun \\n4. Spice Kingdom: Chicken Madras, Beef Vindaloo, Bhindi Masala, Jeera Rice, Gulab Jamun \\n5. Chutney Palace: Paneer Tikka Masala, Lamb Pasanda, Palak Paneer, Garlic Naan, Raita \\n6. Tandoori Treats: Tandoori Chicken, Lamb Seekh Kabab, Baingan Bharta, Naan Bread, Lassi \\n7. Bombay Bites: Chicken Tikka, Lamb Kofta Curry, Aloo Palak, Jeera Rice, Mango Lassi \\n8. The Desi Diner: Paneer Makhani, Lamb Biryani, Chole Bhature, Naan Bread,'}\n"
     ]
    }
   ],
   "source": [
    "print(chain({'cuisine': 'Indian'}))"
   ]
  },
  {
   "cell_type": "code",
   "execution_count": 16,
   "id": "378d2d6d",
   "metadata": {},
   "outputs": [],
   "source": [
    "#!pip install wikipedia"
   ]
  },
  {
   "cell_type": "code",
   "execution_count": 17,
   "id": "d5d9fa0f",
   "metadata": {},
   "outputs": [
    {
     "data": {
      "text/plain": [
       "'Lionel Messi was born in 1987 and his age in 2023 is 36.'"
      ]
     },
     "execution_count": 17,
     "metadata": {},
     "output_type": "execute_result"
    }
   ],
   "source": [
    "# agents\n",
    "\n",
    "from langchain.agents import AgentType, initialize_agent, load_tools\n",
    "from langchain.llms import OpenAI\n",
    "\n",
    "tools = load_tools([\"wikipedia\", \"llm-math\"], llm=llm)\n",
    "\n",
    "#create an agent\n",
    "agent = initialize_agent(\n",
    "    tools,\n",
    "    llm,\n",
    "    agent=AgentType.ZERO_SHOT_REACT_DESCRIPTION\n",
    ")\n",
    "\n",
    "agent.run(\"When was Lionel Messi born? What is his age right now in 2023?\")"
   ]
  },
  {
   "cell_type": "code",
   "execution_count": 18,
   "id": "a307b749",
   "metadata": {},
   "outputs": [
    {
     "name": "stdout",
     "output_type": "stream",
     "text": [
      "\n",
      "\n",
      "\u001b[1m> Entering new AgentExecutor chain...\u001b[0m\n",
      "\u001b[32;1m\u001b[1;3m Lionel Messi is a famous soccer player, so I should try to look him up on Wikipedia.\n",
      "Action: Wikipedia\n",
      "Action Input: Lionel Messi\u001b[0m\n",
      "Observation: \u001b[36;1m\u001b[1;3mPage: Lionel Messi\n",
      "Summary: Lionel Andrés Messi (Spanish pronunciation: [ljoˈnel anˈdɾes ˈmesi] (listen); born 24 June 1987), also known as Leo Messi, is an Argentine professional footballer who plays as a forward for and captains both Major League Soccer club Inter Miami and the Argentina national team. Widely regarded as one of the greatest players of all time, Messi has won a record seven Ballon d'Or awards and a record six European Golden Shoes, and in 2020 he was named to the Ballon d'Or Dream Team. Until leaving the club in 2021, he had spent his entire professional career with Barcelona, where he won a club-record 34 trophies, including ten La Liga titles, seven Copa del Rey titles and the UEFA Champions League four times. With his country, he won the 2021 Copa América and the 2022 FIFA World Cup. A prolific goalscorer and creative playmaker, Messi holds the records for most goals in La Liga (474), most hat-tricks in La Liga (36) and the UEFA Champions League (eight), and most assists in La Liga (192) and the Copa América (17). He also has the most international goals by a South American male (103). Messi has scored over 800 senior career goals for club and country, and has the most goals by a player for a single club (672).\n",
      "Messi relocated to Spain from Argentina aged 13 to join Barcelona, for whom he made his competitive debut aged 17 in October 2004. He established himself as an integral player for the club within the next three years, and in his first uninterrupted season in 2008–09 he helped Barcelona achieve the first treble in Spanish football; that year, aged 22, Messi won his first Ballon d'Or. Three successful seasons followed, with Messi winning four consecutive Ballons d'Or, making him the first player to win the award four times. During the 2011–12 season, he set the La Liga and European records for most goals scored in a single season, while establishing himself as Barcelona's all-time top scorer. The following two seasons, Messi finished second for the Ballon d'Or behind Cristiano Ronaldo (his perceived career rival), before regaining his best form during the 2014–15 campaign, becoming the all-time top scorer in La Liga and leading Barcelona to a historic second treble, after which he was awarded a fifth Ballon d'Or in 2015. Messi assumed captaincy of Barcelona in 2018, and won a record sixth Ballon d'Or in 2019. Out of contract, he signed for French club Paris Saint-Germain in August 2021, spending two seasons at the club and winning Ligue 1 twice. Messi joined American club Inter Miami in July 2023, winning the 2023 Leagues Cup in August of that year.\n",
      "An Argentine international, Messi is the country's all-time leading goalscorer and also holds the national record for appearances. At youth level, he won the 2005 FIFA World Youth Championship, finishing the tournament with both the Golden Ball and Golden Shoe, and an Olympic gold medal at the 2008 Summer Olympics. His style of play as a diminutive, left-footed dribbler drew comparisons with his compatriot Diego Maradona, who described Messi as his successor. After his senior debut in August 2005, Messi became the youngest Argentine to play and score in a FIFA World Cup (2006), and reached the final of the 2007 Copa América, where he was named young player of the tournament. As the squad's captain from August 2011, he led Argentina to three consecutive finals: the 2014 FIFA World Cup, for which he won the Golden Ball, the 2015 Copa América, winning the Golden Ball, and the 2016 Copa América. After announcing his international retirement in 2016, he reversed his decision and led his country to qualification for the 2018 FIFA World Cup, a third-place finish at the 2019 Copa América, and victory in the 2021 Copa América, while winning the Golden Ball and Golden Boot for the latter. For this achievement, Messi received a record-extending seventh Ballon d'Or in 2021. In 2022, he led Argentina to win the 2022 FIFA World Cup, where he won a record second Golden B\u001b[0m\n",
      "Thought:\u001b[32;1m\u001b[1;3m Lionel Messi was born in 1987 and is currently 36 years old in 2023.\n",
      "Final Answer: Lionel Messi was born on 24 June 1987 and is currently 36 years old in 2023.\u001b[0m\n",
      "\n",
      "\u001b[1m> Finished chain.\u001b[0m\n"
     ]
    },
    {
     "data": {
      "text/plain": [
       "'Lionel Messi was born on 24 June 1987 and is currently 36 years old in 2023.'"
      ]
     },
     "execution_count": 18,
     "metadata": {},
     "output_type": "execute_result"
    }
   ],
   "source": [
    "# agent with verbose\n",
    "# can use verbose with every function above\n",
    "agent = initialize_agent(\n",
    "    tools,\n",
    "    llm,\n",
    "    verbose=True,\n",
    "    agent=AgentType.ZERO_SHOT_REACT_DESCRIPTION\n",
    ")\n",
    "\n",
    "agent.run(\"When was Lionel Messi born? What is his age right now in 2023?\")"
   ]
  },
  {
   "cell_type": "code",
   "execution_count": 19,
   "id": "78f092e2",
   "metadata": {},
   "outputs": [],
   "source": [
    "# try serp API"
   ]
  },
  {
   "cell_type": "code",
   "execution_count": 20,
   "id": "1faf3770",
   "metadata": {},
   "outputs": [
    {
     "name": "stdout",
     "output_type": "stream",
     "text": [
      "\n",
      "\n",
      "1. El Corazon Mexicano\n",
      "2. La Casa de la Salsa\n",
      "3. La Taqueria del Amor\n",
      "4. La Cocina de Jalisco\n",
      "5. El Sabor de la Frontera\n",
      "6. La Fiesta de los Burritos\n",
      "7. El Toro Loco\n",
      "8. La Cantina del Mar\n",
      "9. Las Estrellas del Fuego\n",
      "10. La Abuela's Kitchen\n"
     ]
    }
   ],
   "source": [
    "# memory\n",
    "\n",
    "chain = LLMChain(llm=llm, prompt=prompt_template_name)\n",
    "name = chain.run(\"Mexican\")\n",
    "print(name)"
   ]
  },
  {
   "cell_type": "code",
   "execution_count": 21,
   "id": "1987d6e4",
   "metadata": {},
   "outputs": [
    {
     "name": "stdout",
     "output_type": "stream",
     "text": [
      "\n",
      "\n",
      "1. Spice-Tacular\n",
      "2. Masala Magic\n",
      "3. Curry Craze\n",
      "4. Tandoori Twist\n",
      "5. Spice It Up\n",
      "6. Desi Delights\n",
      "7. India's Flavors\n",
      "8. The Chaat House\n",
      "9. Biryani Bonanza\n",
      "10. The Taj Mahal\n"
     ]
    }
   ],
   "source": [
    "name = chain.run(\"Indian\")\n",
    "print(name)"
   ]
  },
  {
   "cell_type": "code",
   "execution_count": 22,
   "id": "13f3de9c",
   "metadata": {},
   "outputs": [
    {
     "data": {
      "text/plain": [
       "NoneType"
      ]
     },
     "execution_count": 22,
     "metadata": {},
     "output_type": "execute_result"
    }
   ],
   "source": [
    "type(chain.memory)"
   ]
  },
  {
   "cell_type": "code",
   "execution_count": 24,
   "id": "8b7f9fed",
   "metadata": {},
   "outputs": [
    {
     "name": "stdout",
     "output_type": "stream",
     "text": [
      "\n",
      "\n",
      "1. La Casa del Sabor \n",
      "2. El Mariachi \n",
      "3. El Rincon de Mexico \n",
      "4. La Cocina Mexicana \n",
      "5. La Fiesta de los Sabores \n",
      "6. La Cantina del Sol \n",
      "7. El Rancho de los Sabores \n",
      "8. La Taqueria del Corazon \n",
      "9. La Comida Mexicana \n",
      "10. El Sabor de Mexico\n"
     ]
    }
   ],
   "source": [
    "from langchain.memory import ConversationBufferMemory\n",
    "\n",
    "memory = ConversationBufferMemory()\n",
    "\n",
    "chain = LLMChain(llm=llm, prompt=prompt_template_name, memory=memory)\n",
    "name = chain.run(\"Mexican\")\n",
    "print(name)"
   ]
  },
  {
   "cell_type": "code",
   "execution_count": 25,
   "id": "dbdbc482",
   "metadata": {},
   "outputs": [
    {
     "name": "stdout",
     "output_type": "stream",
     "text": [
      "\n",
      "\n",
      "1. Spice Odyssey\n",
      "2. Arabian Nights\n",
      "3. Sahara Bites\n",
      "4. Caravan Cuisine\n",
      "5. Levantine Delights\n",
      "6. Babylonian Banquet\n",
      "7. The Casbah Café\n",
      "8. Istanbul Express\n",
      "9. Cairo Cuisine\n",
      "10. The Taj Mahal\n"
     ]
    }
   ],
   "source": [
    "name = chain.run(\"Middle-eastern\")\n",
    "print(name)"
   ]
  },
  {
   "cell_type": "code",
   "execution_count": 26,
   "id": "338f653f",
   "metadata": {},
   "outputs": [
    {
     "data": {
      "text/plain": [
       "ConversationBufferMemory(chat_memory=ChatMessageHistory(messages=[HumanMessage(content='Mexican', additional_kwargs={}, example=False), AIMessage(content='\\n\\n1. La Casa del Sabor \\n2. El Mariachi \\n3. El Rincon de Mexico \\n4. La Cocina Mexicana \\n5. La Fiesta de los Sabores \\n6. La Cantina del Sol \\n7. El Rancho de los Sabores \\n8. La Taqueria del Corazon \\n9. La Comida Mexicana \\n10. El Sabor de Mexico', additional_kwargs={}, example=False), HumanMessage(content='Middle-eastern', additional_kwargs={}, example=False), AIMessage(content='\\n\\n1. Spice Odyssey\\n2. Arabian Nights\\n3. Sahara Bites\\n4. Caravan Cuisine\\n5. Levantine Delights\\n6. Babylonian Banquet\\n7. The Casbah Café\\n8. Istanbul Express\\n9. Cairo Cuisine\\n10. The Taj Mahal', additional_kwargs={}, example=False)]), output_key=None, input_key=None, return_messages=False, human_prefix='Human', ai_prefix='AI', memory_key='history')"
      ]
     },
     "execution_count": 26,
     "metadata": {},
     "output_type": "execute_result"
    }
   ],
   "source": [
    "# memory is attached to it\n",
    "chain.memory"
   ]
  },
  {
   "cell_type": "code",
   "execution_count": 27,
   "id": "f94bd6aa",
   "metadata": {},
   "outputs": [
    {
     "name": "stdout",
     "output_type": "stream",
     "text": [
      "Human: Mexican\n",
      "AI: \n",
      "\n",
      "1. La Casa del Sabor \n",
      "2. El Mariachi \n",
      "3. El Rincon de Mexico \n",
      "4. La Cocina Mexicana \n",
      "5. La Fiesta de los Sabores \n",
      "6. La Cantina del Sol \n",
      "7. El Rancho de los Sabores \n",
      "8. La Taqueria del Corazon \n",
      "9. La Comida Mexicana \n",
      "10. El Sabor de Mexico\n",
      "Human: Middle-eastern\n",
      "AI: \n",
      "\n",
      "1. Spice Odyssey\n",
      "2. Arabian Nights\n",
      "3. Sahara Bites\n",
      "4. Caravan Cuisine\n",
      "5. Levantine Delights\n",
      "6. Babylonian Banquet\n",
      "7. The Casbah Café\n",
      "8. Istanbul Express\n",
      "9. Cairo Cuisine\n",
      "10. The Taj Mahal\n"
     ]
    }
   ],
   "source": [
    "print(chain.memory.buffer)"
   ]
  },
  {
   "cell_type": "code",
   "execution_count": 28,
   "id": "a15507a1",
   "metadata": {},
   "outputs": [
    {
     "name": "stdout",
     "output_type": "stream",
     "text": [
      "The following is a friendly conversation between a human and an AI. The AI is talkative and provides lots of specific details from its context. If the AI does not know the answer to a question, it truthfully says it does not know.\n",
      "\n",
      "Current conversation:\n",
      "{history}\n",
      "Human: {input}\n",
      "AI:\n"
     ]
    }
   ],
   "source": [
    "# conversation memory keeps on growing ... it sends all of the memory to openai and then it charges you (in short)\n",
    "\n",
    "from langchain.chains import ConversationChain\n",
    "\n",
    "convo = ConversationChain(llm=OpenAI(temperature=0.7))\n",
    "print(convo.prompt.template)"
   ]
  },
  {
   "cell_type": "code",
   "execution_count": 29,
   "id": "c8f33250",
   "metadata": {},
   "outputs": [
    {
     "data": {
      "text/plain": [
       "' France won the last FIFA World Cup in 2018. They beat Croatia 4-2 in the final match.'"
      ]
     },
     "execution_count": 29,
     "metadata": {},
     "output_type": "execute_result"
    }
   ],
   "source": [
    "convo.run(\"Who won the last FIFA World Cup?\")"
   ]
  },
  {
   "cell_type": "code",
   "execution_count": 30,
   "id": "3460b096",
   "metadata": {},
   "outputs": [
    {
     "data": {
      "text/plain": [
       "' 10 + 6.9 is equal to 16.9.'"
      ]
     },
     "execution_count": 30,
     "metadata": {},
     "output_type": "execute_result"
    }
   ],
   "source": [
    "convo.run(\"What is 10 + 6.9\")"
   ]
  },
  {
   "cell_type": "code",
   "execution_count": 31,
   "id": "b4ccbe82",
   "metadata": {},
   "outputs": [
    {
     "name": "stdout",
     "output_type": "stream",
     "text": [
      "Human: Who won the last FIFA World Cup?\n",
      "AI:  France won the last FIFA World Cup in 2018. They beat Croatia 4-2 in the final match.\n",
      "Human: What is 10 + 6.9\n",
      "AI:  10 + 6.9 is equal to 16.9.\n"
     ]
    }
   ],
   "source": [
    "print(convo.memory.buffer)"
   ]
  },
  {
   "cell_type": "code",
   "execution_count": 32,
   "id": "f1d3d2e5",
   "metadata": {},
   "outputs": [
    {
     "data": {
      "text/plain": [
       "' France won the 2018 FIFA World Cup. They defeated Croatia 4-2 in the final match.'"
      ]
     },
     "execution_count": 32,
     "metadata": {},
     "output_type": "execute_result"
    }
   ],
   "source": [
    "from langchain.memory import ConversationBufferWindowMemory\n",
    "\n",
    "memory = ConversationBufferWindowMemory(k=1)\n",
    "\n",
    "convo = ConversationChain(\n",
    "    llm = OpenAI(temperature=0.6),\n",
    "    memory=memory)\n",
    "\n",
    "convo.run(\"Who won the last FIFA World Cup?\")"
   ]
  },
  {
   "cell_type": "code",
   "execution_count": 33,
   "id": "2bc97e53",
   "metadata": {},
   "outputs": [
    {
     "data": {
      "text/plain": [
       "' Uruguay won the first FIFA World Cup in 1930. They defeated Argentina 4-2 in the final match.'"
      ]
     },
     "execution_count": 33,
     "metadata": {},
     "output_type": "execute_result"
    }
   ],
   "source": [
    "convo.run(\"Who won the first FIFA World Cup?\")"
   ]
  },
  {
   "cell_type": "code",
   "execution_count": 34,
   "id": "0449c62a",
   "metadata": {},
   "outputs": [
    {
     "name": "stdout",
     "output_type": "stream",
     "text": [
      "Human: Who won the first FIFA World Cup?\n",
      "AI:  Uruguay won the first FIFA World Cup in 1930. They defeated Argentina 4-2 in the final match.\n"
     ]
    }
   ],
   "source": [
    "print(convo.memory.buffer)"
   ]
  },
  {
   "cell_type": "code",
   "execution_count": 35,
   "id": "1d753eab",
   "metadata": {},
   "outputs": [
    {
     "data": {
      "text/plain": [
       "\" The United States won the first Women's FIFA World Cup in 1991. They defeated Norway 2-1 in the final match.\""
      ]
     },
     "execution_count": 35,
     "metadata": {},
     "output_type": "execute_result"
    }
   ],
   "source": [
    "convo.run(\"Who won the first Women's FIFA World Cup?\")"
   ]
  },
  {
   "cell_type": "code",
   "execution_count": 36,
   "id": "d9dd093a",
   "metadata": {},
   "outputs": [
    {
     "name": "stdout",
     "output_type": "stream",
     "text": [
      "Human: Who won the first Women's FIFA World Cup?\n",
      "AI:  The United States won the first Women's FIFA World Cup in 1991. They defeated Norway 2-1 in the final match.\n"
     ]
    }
   ],
   "source": [
    "print(convo.memory.buffer)"
   ]
  },
  {
   "cell_type": "code",
   "execution_count": 37,
   "id": "ac0ba448",
   "metadata": {},
   "outputs": [],
   "source": [
    "memory = ConversationBufferWindowMemory(k=2)\n",
    "\n",
    "convo = ConversationChain(\n",
    "    llm = OpenAI(temperature=0.6),\n",
    "    memory=memory)"
   ]
  },
  {
   "cell_type": "code",
   "execution_count": 38,
   "id": "e97feba4",
   "metadata": {},
   "outputs": [
    {
     "data": {
      "text/plain": [
       "' The first FIFA World Cup was held in Uruguay in 1930 and the winner was Uruguay.'"
      ]
     },
     "execution_count": 38,
     "metadata": {},
     "output_type": "execute_result"
    }
   ],
   "source": [
    "convo.run(\"Who won the first FIFA World Cup?\")"
   ]
  },
  {
   "cell_type": "code",
   "execution_count": 39,
   "id": "b7374650",
   "metadata": {},
   "outputs": [
    {
     "data": {
      "text/plain": [
       "\" The first Women's FIFA World Cup was held in China in 1991 and the winner was the United States.\""
      ]
     },
     "execution_count": 39,
     "metadata": {},
     "output_type": "execute_result"
    }
   ],
   "source": [
    "convo.run(\"Who won the first Women's FIFA World Cup?\")"
   ]
  },
  {
   "cell_type": "code",
   "execution_count": 40,
   "id": "e8c2a11f",
   "metadata": {},
   "outputs": [
    {
     "name": "stdout",
     "output_type": "stream",
     "text": [
      "Human: Who won the first FIFA World Cup?\n",
      "AI:  The first FIFA World Cup was held in Uruguay in 1930 and the winner was Uruguay.\n",
      "Human: Who won the first Women's FIFA World Cup?\n",
      "AI:  The first Women's FIFA World Cup was held in China in 1991 and the winner was the United States.\n"
     ]
    }
   ],
   "source": [
    "print(convo.memory.buffer)"
   ]
  },
  {
   "cell_type": "code",
   "execution_count": 41,
   "id": "60ef7299",
   "metadata": {},
   "outputs": [
    {
     "data": {
      "text/plain": [
       "' The last FIFA World Cup was held in Russia in 2018 and the winner was France.'"
      ]
     },
     "execution_count": 41,
     "metadata": {},
     "output_type": "execute_result"
    }
   ],
   "source": [
    "convo.run(\"Who won the last FIFA World Cup?\")"
   ]
  },
  {
   "cell_type": "code",
   "execution_count": 42,
   "id": "41bfbd05",
   "metadata": {},
   "outputs": [
    {
     "name": "stdout",
     "output_type": "stream",
     "text": [
      "Human: Who won the first Women's FIFA World Cup?\n",
      "AI:  The first Women's FIFA World Cup was held in China in 1991 and the winner was the United States.\n",
      "Human: Who won the last FIFA World Cup?\n",
      "AI:  The last FIFA World Cup was held in Russia in 2018 and the winner was France.\n"
     ]
    }
   ],
   "source": [
    "print(convo.memory.buffer)"
   ]
  },
  {
   "cell_type": "code",
   "execution_count": null,
   "id": "c9b5e691",
   "metadata": {},
   "outputs": [],
   "source": []
  }
 ],
 "metadata": {
  "kernelspec": {
   "display_name": "Python 3 (ipykernel)",
   "language": "python",
   "name": "python3"
  },
  "language_info": {
   "codemirror_mode": {
    "name": "ipython",
    "version": 3
   },
   "file_extension": ".py",
   "mimetype": "text/x-python",
   "name": "python",
   "nbconvert_exporter": "python",
   "pygments_lexer": "ipython3",
   "version": "3.9.17"
  }
 },
 "nbformat": 4,
 "nbformat_minor": 5
}
